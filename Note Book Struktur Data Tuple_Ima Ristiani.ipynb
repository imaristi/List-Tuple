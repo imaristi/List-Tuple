{
  "nbformat": 4,
  "nbformat_minor": 0,
  "metadata": {
    "colab": {
      "name": "Note Book Struktur Data Tuple - Ima Ristiani.ipynb",
      "provenance": []
    },
    "kernelspec": {
      "name": "python3",
      "display_name": "Python 3"
    },
    "language_info": {
      "name": "python"
    }
  },
  "cells": [
    {
      "cell_type": "markdown",
      "metadata": {
        "id": "54M5r1yn5heA"
      },
      "source": [
        "**NAMA : IMA RISTIANI**\n",
        "\n",
        "**NIM : 2000015027**\n",
        "\n",
        "**PRODI : MATEMATIKA**"
      ]
    },
    {
      "cell_type": "markdown",
      "metadata": {
        "id": "oHujNGRr5xsW"
      },
      "source": [
        "###Struktur Data Tuple"
      ]
    },
    {
      "cell_type": "markdown",
      "metadata": {
        "id": "4k5ZYQAC6eBq"
      },
      "source": [
        "Tuple adalah jenis dari struktur data yang tidak dapat diubah elemennya. Umumnya tuple digunakan untuk data yang bersifat sekali tulis, dan dapat dieksekusi lebih cepat. Tuple di definisikan dengan kurung dan elemen yang dipisahkan dengan koma."
      ]
    },
    {
      "cell_type": "code",
      "metadata": {
        "colab": {
          "base_uri": "https://localhost:8080/"
        },
        "id": "zfOu4uvC5frX",
        "outputId": "6213367b-2ec1-4897-f12f-52c6b140b235"
      },
      "source": [
        "# Contoh Tuple\n",
        "T1 = (1, \"dua\", True, 1+2j)\n",
        "print(\"ini adalah tuple\", T1)"
      ],
      "execution_count": 2,
      "outputs": [
        {
          "output_type": "stream",
          "name": "stdout",
          "text": [
            "ini adalah tuple (1, 'dua', True, (1+2j))\n"
          ]
        }
      ]
    },
    {
      "cell_type": "code",
      "metadata": {
        "id": "Zh5Km4Hi8BmG",
        "colab": {
          "base_uri": "https://localhost:8080/"
        },
        "outputId": "f36c751b-15d9-4fbf-a2c7-5f4a81213103"
      },
      "source": [
        "# Menampilkan tipe struktur data\n",
        "type(T1)"
      ],
      "execution_count": 3,
      "outputs": [
        {
          "output_type": "execute_result",
          "data": {
            "text/plain": [
              "tuple"
            ]
          },
          "metadata": {},
          "execution_count": 3
        }
      ]
    },
    {
      "cell_type": "markdown",
      "metadata": {
        "id": "mVBe8p9ecD-U"
      },
      "source": [
        "Sifat-sifat Tuple"
      ]
    },
    {
      "cell_type": "code",
      "metadata": {
        "colab": {
          "base_uri": "https://localhost:8080/"
        },
        "id": "hLqVHtVvcIis",
        "outputId": "7ac647c3-f156-48f5-caed-3d3d5e053b3f"
      },
      "source": [
        "# Terurut/Ordered\n",
        "T1[0:3]"
      ],
      "execution_count": 4,
      "outputs": [
        {
          "output_type": "execute_result",
          "data": {
            "text/plain": [
              "(1, 'dua', True)"
            ]
          },
          "metadata": {},
          "execution_count": 4
        }
      ]
    },
    {
      "cell_type": "code",
      "metadata": {
        "colab": {
          "base_uri": "https://localhost:8080/",
          "height": 180
        },
        "id": "PoWZyglEcP8G",
        "outputId": "115e387f-93b7-4fea-8d54-5c9759660adb"
      },
      "source": [
        "# Tidak Bisa Diganti/Immutable\n",
        "T1[2] = \"manusia\""
      ],
      "execution_count": 5,
      "outputs": [
        {
          "output_type": "error",
          "ename": "TypeError",
          "evalue": "ignored",
          "traceback": [
            "\u001b[0;31m---------------------------------------------------------------------------\u001b[0m",
            "\u001b[0;31mTypeError\u001b[0m                                 Traceback (most recent call last)",
            "\u001b[0;32m<ipython-input-5-f95cde91eb38>\u001b[0m in \u001b[0;36m<module>\u001b[0;34m()\u001b[0m\n\u001b[1;32m      1\u001b[0m \u001b[0;31m# Tidak Bisa Diganti/Immutable\u001b[0m\u001b[0;34m\u001b[0m\u001b[0;34m\u001b[0m\u001b[0;34m\u001b[0m\u001b[0m\n\u001b[0;32m----> 2\u001b[0;31m \u001b[0mT1\u001b[0m\u001b[0;34m[\u001b[0m\u001b[0;36m2\u001b[0m\u001b[0;34m]\u001b[0m \u001b[0;34m=\u001b[0m \u001b[0;34m\"manusia\"\u001b[0m\u001b[0;34m\u001b[0m\u001b[0;34m\u001b[0m\u001b[0m\n\u001b[0m",
            "\u001b[0;31mTypeError\u001b[0m: 'tuple' object does not support item assignment"
          ]
        }
      ]
    },
    {
      "cell_type": "code",
      "metadata": {
        "colab": {
          "base_uri": "https://localhost:8080/"
        },
        "id": "B4om8P8Pcppl",
        "outputId": "80fe7c4c-6a4a-444b-8086-2f8b76265615"
      },
      "source": [
        "# Dapat diindeks/Slicing\n",
        "print(\"elemen kedua dari tuple T1 adalah:\", T1[1])"
      ],
      "execution_count": 6,
      "outputs": [
        {
          "output_type": "stream",
          "name": "stdout",
          "text": [
            "elemen kedua dari tuple T1 adalah: dua\n"
          ]
        }
      ]
    },
    {
      "cell_type": "code",
      "metadata": {
        "colab": {
          "base_uri": "https://localhost:8080/"
        },
        "id": "bCmRmou7c_z0",
        "outputId": "98056c42-79f7-454f-aff1-386e540f8074"
      },
      "source": [
        "# Dapat diijinkan Duplikasi\n",
        "T2 = (3, 2.4, True, 2.4)\n",
        "T2"
      ],
      "execution_count": 7,
      "outputs": [
        {
          "output_type": "execute_result",
          "data": {
            "text/plain": [
              "(3, 2.4, True, 2.4)"
            ]
          },
          "metadata": {},
          "execution_count": 7
        }
      ]
    },
    {
      "cell_type": "markdown",
      "metadata": {
        "id": "qB2lgGNodMuC"
      },
      "source": [
        "Menggabungkan Tuple"
      ]
    },
    {
      "cell_type": "code",
      "metadata": {
        "colab": {
          "base_uri": "https://localhost:8080/"
        },
        "id": "ljomw3kLc_w6",
        "outputId": "d0219f42-3ab9-44b6-9065-491df043a431"
      },
      "source": [
        "# Menggabungkan Tuple\n",
        "T3 = T1 + T2\n",
        "T3"
      ],
      "execution_count": 8,
      "outputs": [
        {
          "output_type": "execute_result",
          "data": {
            "text/plain": [
              "(1, 'dua', True, (1+2j), 3, 2.4, True, 2.4)"
            ]
          },
          "metadata": {},
          "execution_count": 8
        }
      ]
    }
  ]
}